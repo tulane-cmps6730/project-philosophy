{
 "cells": [
  {
   "cell_type": "code",
   "execution_count": 23,
   "metadata": {},
   "outputs": [],
   "source": [
    "filenames = ['kant1.txt', 'kant2.txt', 'kant3.txt']\n",
    "kant_1 = []\n",
    "kant_2 = []\n",
    "kant_3 = []\n",
    "\n",
    "with open(filenames[0], 'r', encoding='utf-8') as file:\n",
    "    critique_of_pure_reason = file.read()[8057:] \n",
    "    kant_1.append(critique_of_pure_reason)\n",
    "\n",
    "with open(filenames[1], 'r', encoding='utf-8') as file:\n",
    "    critique_of_practical_reason = file.read()[1062:]\n",
    "    kant_2.append(critique_of_practical_reason)\n",
    "\n",
    "with open(filenames[2], 'r', encoding='utf-8') as file:\n",
    "    critique_of_judgment = file.read()[70570:] \n",
    "    kant_3.append(critique_of_judgment)\n",
    "\n",
    "kants_works = kant_1[0] + kant_2[0] + kant_3[0]"
   ]
  },
  {
   "cell_type": "code",
   "execution_count": 24,
   "metadata": {},
   "outputs": [
    {
     "name": "stderr",
     "output_type": "stream",
     "text": [
      "[nltk_data] Downloading package punkt to\n",
      "[nltk_data]     /Users/robertbecker/nltk_data...\n",
      "[nltk_data]   Package punkt is already up-to-date!\n"
     ]
    },
    {
     "name": "stdout",
     "output_type": "stream",
     "text": [
      "Sample words in the vocabulary: ['the', 'of', 'to', 'in', 'a', 'is', 'and', 'which', 'it', 'as']\n"
     ]
    }
   ],
   "source": [
    "from nltk.tokenize import word_tokenize, sent_tokenize\n",
    "import string\n",
    "import nltk\n",
    "nltk.download('punkt')\n",
    "\n",
    "def preprocess_text(text):\n",
    "\n",
    "    sentences = sent_tokenize(text)\n",
    "    processed_sentences = []\n",
    "    for sentence in sentences:\n",
    "\n",
    "        sentence = sentence.lower()\n",
    "\n",
    "        sentence = sentence.translate(str.maketrans('', '', string.punctuation))\n",
    "        tokens = word_tokenize(sentence)\n",
    "        processed_sentences.append(tokens)\n",
    "    return processed_sentences\n",
    "\n",
    "processed_texts = preprocess_text(kants_works)\n",
    "\n",
    "from gensim.models import Word2Vec\n",
    "\n",
    "model = Word2Vec(sentences=processed_texts, vector_size=100, window=5, min_count=5, workers=4)\n",
    "\n",
    "print(\"Sample words in the vocabulary:\", list(model.wv.key_to_index)[:10])"
   ]
  },
  {
   "cell_type": "code",
   "execution_count": 22,
   "metadata": {},
   "outputs": [
    {
     "name": "stdout",
     "output_type": "stream",
     "text": [
      "Names most similar to 'Plato':\n",
      "aristotle: 0.964448094367981\n",
      "kant: 0.8102824687957764\n"
     ]
    }
   ],
   "source": [
    "from operator import itemgetter\n",
    "\n",
    "names = ['kant', 'aristotle']\n",
    "\n",
    "if 'plato' in model.wv.key_to_index and all(name in model.wv.key_to_index for name in names):\n",
    "    similarities = [(name, model.wv.similarity('plato', name)) for name in names]\n",
    "\n",
    "    sorted_similarities = sorted(similarities, key=itemgetter(1), reverse=True)\n",
    "    \n",
    "    print(\"Names most similar to 'Plato':\")\n",
    "    for name, similarity in sorted_similarities:\n",
    "        print(f\"{name}: {similarity}\")\n",
    "else:\n",
    "    missing_words = [word for word in ['plato'] + names if word not in model.wv.key_to_index]\n",
    "    print(f\"The following words are missing from the model's vocabulary: {', '.join(missing_words)}\")"
   ]
  },
  {
   "cell_type": "code",
   "execution_count": 25,
   "metadata": {},
   "outputs": [
    {
     "name": "stdout",
     "output_type": "stream",
     "text": [
      "The most similar word to 'Plato' + 'Kant': [('4', 0.9754104614257812), ('modern', 0.9746752381324768), ('25', 0.970201313495636), ('ii', 0.9681170582771301), ('3', 0.9678544998168945), ('professor', 0.9677525162696838), ('book1chapter3', 0.9676522016525269), ('iii', 0.9670807123184204), ('iv', 0.9669672846794128), ('book2chapter2', 0.9661160707473755)]\n"
     ]
    }
   ],
   "source": [
    "if 'plato' in model.wv.key_to_index and 'kant' in model.wv.key_to_index:\n",
    "    result = model.wv.most_similar(positive=['plato', 'kant'], topn=10)\n",
    "    print(\"The most similar word to 'Plato' + 'Kant':\", result)\n",
    "else:\n",
    "    print(\"One of the words is not in the model's vocabulary.\")"
   ]
  }
 ],
 "metadata": {
  "kernelspec": {
   "display_name": "Python 3",
   "language": "python",
   "name": "python3"
  },
  "language_info": {
   "codemirror_mode": {
    "name": "ipython",
    "version": 3
   },
   "file_extension": ".py",
   "mimetype": "text/x-python",
   "name": "python",
   "nbconvert_exporter": "python",
   "pygments_lexer": "ipython3",
   "version": "3.11.5"
  }
 },
 "nbformat": 4,
 "nbformat_minor": 2
}
